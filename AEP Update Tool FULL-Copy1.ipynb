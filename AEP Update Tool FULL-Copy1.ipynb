{
 "cells": [
  {
   "cell_type": "code",
   "execution_count": 1,
   "metadata": {},
   "outputs": [],
   "source": [
    "import os\n",
    "import pandas as pd"
   ]
  },
  {
   "cell_type": "code",
   "execution_count": 2,
   "metadata": {},
   "outputs": [],
   "source": [
    "#PIPP NSPL/PLC, UFE as of now updated manually\n",
    "#Rename source to match order of posting files\n",
    "#The copy includes switching and breaks out PIPP Hourly Load to account for the multiple tabs\n",
    "    #'Ohio Switching Statistics...' ==>> 'AEP Ohio PJ Switching Statistics...' to preserve order"
   ]
  },
  {
   "cell_type": "code",
   "execution_count": 3,
   "metadata": {},
   "outputs": [],
   "source": [
    "#1. Update source path\n",
    "#2. Update last month's posted files path\n",
    "#3. Increment date variables by a month\n",
    "#4. Update output paths\n",
    "#5. Save Switching update as xls(x)"
   ]
  },
  {
   "cell_type": "code",
   "execution_count": 4,
   "metadata": {
    "scrolled": true
   },
   "outputs": [],
   "source": [
    "#Read in new month's source files ==>> SAVE SWITCHING AS EXCEL\n",
    "dataframes_new = []\n",
    "for subdir, dirs, files in os.walk(r'C:\\Users\\matt.pettit\\Desktop\\AEP\\Data\\2020 - 6\\Source Files'):\n",
    "    for filename in files:\n",
    "        filepath_new = subdir + os.sep + filename\n",
    "        \n",
    "        if filepath_new.endswith('.xlsx') or filepath_new.endswith('.xls'):\n",
    "            dataframes_new.append(pd.read_excel(filepath_new))"
   ]
  },
  {
   "cell_type": "code",
   "execution_count": 5,
   "metadata": {
    "scrolled": true
   },
   "outputs": [],
   "source": [
    "CRES_customer_count_update, CRES_hourly_update, NSPL_report_update, PIPP_customer_count_update, Switching_update, PLC_report_update, SSO_customer_count_update, SSO_hourly_load_update = [i for i in dataframes_new]"
   ]
  },
  {
   "cell_type": "code",
   "execution_count": 6,
   "metadata": {
    "scrolled": true
   },
   "outputs": [],
   "source": [
    "#Read in last month's posted files\n",
    "dataframes = []\n",
    "for subdir, dirs, files in os.walk(r'C:\\Users\\matt.pettit\\Desktop\\AEP\\Data\\2020 - 6\\Last Month Posted'):\n",
    "    for filename in files:\n",
    "        filepath = subdir + os.sep + filename\n",
    "        \n",
    "        if filepath.endswith('.xlsx') or filepath.endswith('.xls'):\n",
    "            dataframes.append(pd.read_excel(filepath))"
   ]
  },
  {
   "cell_type": "code",
   "execution_count": 7,
   "metadata": {},
   "outputs": [],
   "source": [
    "#No change\n",
    "CRES_customer, CRES_hourly, NSPL_report, PIPP_customer, Switching, PLC_report, SSO_customer, SSO_hourly = [i for i in dataframes]"
   ]
  },
  {
   "cell_type": "code",
   "execution_count": 8,
   "metadata": {},
   "outputs": [],
   "source": [
    "#No change\n",
    "CRES_cust_dict = {'Year':'AEP Ohio CRES Customer Counts', 'Month':'Unnamed: 1', 'Residential_Customer_Count':'Unnamed: 2',\n",
    "                 'CI_Customer_Count': 'Unnamed: 3', 'Total_Customer_Count':'Unnamed: 4'}\n",
    "\n",
    "CRES_hourly_dict = {'date':'AEP Ohio CRES Hourly Load', 'hour':'Unnamed: 1', 'residential_hourly_load_kW':'Unnamed: 2',\n",
    "                   'CI_hourly_load_kW':'Unnamed: 3', 'Total_Hourly_Load_kW':'Unnamed: 4'}\n",
    "\n",
    "NSPL_report_dict = {'DATE':'AEP Ohio NSPL Report', 'AEP_OHIO_NSPL':'Unnamed: 1', 'SSO_NSPL':'Unnamed: 2', \n",
    "                    'CRES_NSPL': 'Unnamed: 3', 'PIPP_NSPL':'Unnamed: 4'}\n",
    "\n",
    "PIPP_customer_dict = {'company':'AEP Ohio', 'Month': 'Unnamed: 1', 'Active_No_of_Customers': 'Unnamed: 2'}\n",
    "\n",
    "Switching_dict = {'YEAR': 'AEP Ohio Switching Statistics (Customer Counts)', 'MONTH': 'Unnamed: 1', \n",
    "                  'TOTAL_RES': 'Unnamed: 2', 'CHOICE_RES':'Unnamed: 3', 'CHOICE_RES_PERCENT':'Unnamed: 4',\n",
    "                 'TOTAL_CI':'Unnamed: 5', 'CHOICE_CI':'Unnamed: 6', 'CHOICE_CI_PERCENT': 'Unnamed: 7'}\n",
    "\n",
    "PLC_report_dict = {'DATE': 'AEP Ohio PLC Report', 'AEP_OHIO_PLC':'Unnamed: 1', 'SSO_PLC':'Unnamed: 2', \n",
    "                   'CRES_PLC':'Unnamed: 3', 'PIPP_PLC':'Unnamed: 4'}\n",
    "\n",
    "SSO_customer_dict = {'Year':'AEP Ohio SSO Customer Counts', 'Month': 'Unnamed: 1', 'Residential_Customer_Count':'Unnamed: 2',\n",
    "               'CI_Customer_Count':'Unnamed: 3', 'Total_Customer_Count':'Unnamed: 4'}\n",
    "\n",
    "SSO_hourly_dict = {'date':'AEP Ohio SSO Hourly Load', 'hour':'Unnamed: 1', 'residential_hourly_load_kW':'Unnamed: 2', \n",
    "                   'CI_hourly_load_kW':'Unnamed: 3', 'Total_Hourly_Load_kW':'Unnamed: 4'}"
   ]
  },
  {
   "cell_type": "code",
   "execution_count": 9,
   "metadata": {},
   "outputs": [],
   "source": [
    "#No change\n",
    "dictionary = [CRES_cust_dict, CRES_hourly_dict, NSPL_report_dict, PIPP_customer_dict, Switching_dict, PLC_report_dict, SSO_customer_dict, SSO_hourly_dict]\n",
    "update_files = [CRES_customer_count_update, CRES_hourly_update, NSPL_report_update, PIPP_customer_count_update, Switching_update, PLC_report_update, SSO_customer_count_update, SSO_hourly_load_update]\n",
    "big_files = [CRES_customer, CRES_hourly, NSPL_report, PIPP_customer, Switching, PLC_report, SSO_customer, SSO_hourly]"
   ]
  },
  {
   "cell_type": "code",
   "execution_count": 10,
   "metadata": {
    "scrolled": true
   },
   "outputs": [],
   "source": [
    "#No change\n",
    "update_files[0] = CRES_customer_count_update.rename(columns=dictionary[0])\n",
    "update_files[1] = CRES_hourly_update.rename(columns=dictionary[1])\n",
    "update_files[2] = NSPL_report_update.rename(columns=dictionary[2])\n",
    "update_files[3] = PIPP_customer_count_update.rename(columns=dictionary[3])\n",
    "update_files[4] = Switching_update.rename(columns=dictionary[4])\n",
    "update_files[5] = PLC_report_update.rename(columns=dictionary[5])\n",
    "update_files[6] = SSO_customer_count_update.rename(columns=dictionary[6])\n",
    "update_files[7] = SSO_hourly_load_update.rename(columns=dictionary[7])"
   ]
  },
  {
   "cell_type": "code",
   "execution_count": 11,
   "metadata": {
    "scrolled": true
   },
   "outputs": [],
   "source": [
    "#No change\n",
    "big_files[0] = big_files[0].append(update_files[0], sort=True)\n",
    "big_files[1] = big_files[1].append(update_files[1], sort=True)\n",
    "big_files[2] = big_files[2].append(update_files[2], sort=True)\n",
    "big_files[3] = big_files[3].append(update_files[3], sort=True)\n",
    "big_files[4] = big_files[4].append(update_files[4], sort=True)\n",
    "big_files[5] = big_files[5].append(update_files[5], sort=True)\n",
    "big_files[6] = big_files[6].append(update_files[6], sort=True)\n",
    "big_files[7] = big_files[7].append(update_files[7], sort=True)"
   ]
  },
  {
   "cell_type": "code",
   "execution_count": 12,
   "metadata": {},
   "outputs": [],
   "source": [
    "#Increment dates by a month\n",
    "update_name = 'June 2020 Update'\n",
    "date_thru = 'Data Update Through March 2020'\n",
    "\n",
    "for i in range(0,7):\n",
    "    big_files[i].iloc[0,0]=update_name\n",
    "    big_files[i].iloc[1,0]=date_thru"
   ]
  },
  {
   "cell_type": "code",
   "execution_count": 13,
   "metadata": {},
   "outputs": [],
   "source": [
    "big_files[0].to_excel(r'C:\\Users\\matt.pettit\\Desktop\\AEP\\Data\\2020 - 6\\To Post\\AEP Ohio CRES Customer Counts - May 2020.xlsx', \n",
    "                     index=False)"
   ]
  },
  {
   "cell_type": "code",
   "execution_count": 14,
   "metadata": {
    "scrolled": true
   },
   "outputs": [],
   "source": [
    "big_files[1].to_excel(r\"C:\\Users\\matt.pettit\\Desktop\\AEP\\Data\\2020 - 6\\To Post\\AEP Ohio CRES Hourly Load - May 2020.xlsx\", \n",
    "                     index=False)"
   ]
  },
  {
   "cell_type": "code",
   "execution_count": 15,
   "metadata": {},
   "outputs": [],
   "source": [
    "big_files[2].to_excel(r\"C:\\Users\\matt.pettit\\Desktop\\AEP\\Data\\2020 - 6\\To Post\\AEP Ohio NSPL Report - May 2020.xls\",\n",
    "                     index=False)"
   ]
  },
  {
   "cell_type": "code",
   "execution_count": 16,
   "metadata": {},
   "outputs": [],
   "source": [
    "big_files[3].to_excel(r\"C:\\Users\\matt.pettit\\Desktop\\AEP\\Data\\2020 - 6\\To Post\\AEP Ohio PIPP Customer Counts - May 2020.xlsx\",\n",
    "                     index=False)"
   ]
  },
  {
   "cell_type": "code",
   "execution_count": 17,
   "metadata": {},
   "outputs": [],
   "source": [
    "big_files[4].to_excel(r\"C:\\Users\\matt.pettit\\Desktop\\AEP\\Data\\2020 - 6\\To Post\\AEP Ohio PJ Switching Statistics - May 2020.xlsx\",\n",
    "                     index=False)"
   ]
  },
  {
   "cell_type": "code",
   "execution_count": 18,
   "metadata": {},
   "outputs": [],
   "source": [
    "big_files[5].to_excel(r\"C:\\Users\\matt.pettit\\Desktop\\AEP\\Data\\2020 - 6\\To Post\\AEP Ohio PLC Report - May 2020.xls\",\n",
    "                     index=False)"
   ]
  },
  {
   "cell_type": "code",
   "execution_count": 19,
   "metadata": {},
   "outputs": [],
   "source": [
    "big_files[6].to_excel(r\"C:\\Users\\matt.pettit\\Desktop\\AEP\\Data\\2020 - 6\\To Post\\AEP Ohio SSO Customer Counts - May 2020.xlsx\",\n",
    "                     index=False)"
   ]
  },
  {
   "cell_type": "code",
   "execution_count": 20,
   "metadata": {},
   "outputs": [],
   "source": [
    "big_files[7].to_excel(r\"C:\\Users\\matt.pettit\\Desktop\\AEP\\Data\\2020 - 6\\To Post\\AEP Ohio SSO Hourly Load - May 2020.xlsx\",\n",
    "                     index=False)"
   ]
  },
  {
   "cell_type": "code",
   "execution_count": 21,
   "metadata": {
    "scrolled": true
   },
   "outputs": [],
   "source": [
    "\n",
    "\n",
    "\n",
    "######### PIPP Updates #########\n",
    "\n",
    "\n"
   ]
  },
  {
   "cell_type": "code",
   "execution_count": 23,
   "metadata": {
    "scrolled": true
   },
   "outputs": [],
   "source": [
    "#Update PIPP Last Month\n",
    "\n",
    "PIPP_HourlyL = pd.ExcelFile(r\"C:\\Users\\matt.pettit\\Desktop\\AEP\\Data\\2020 - 6\\Other\\Other Last Month\\AEP Ohio PIPP Hourly Load - May 2020.xlsx\")"
   ]
  },
  {
   "cell_type": "code",
   "execution_count": 24,
   "metadata": {},
   "outputs": [],
   "source": [
    "#Update PIPP Source\n",
    "\n",
    "PIPP_sheet1 = pd.read_excel(PIPP_HourlyL, 'Prior to Jun 1 2016')\n",
    "PIPP_sheet2 = pd.read_excel(PIPP_HourlyL, 'Jun 1 2016 Forward')\n",
    "\n",
    "update_data = pd.read_excel(r\"C:\\Users\\matt.pettit\\Desktop\\AEP\\Data\\2020 - 6\\Other\\Other Source\\AEP OH Historical Hourly PIPP Customer Data - 202006.xlsx\")"
   ]
  },
  {
   "cell_type": "code",
   "execution_count": 25,
   "metadata": {},
   "outputs": [],
   "source": [
    "PIPP_dictionary = {'date':'Unnamed: 1', 'hour':'Unnamed: 2', 'PIPP_Customers_Hourly_Load_kW':'Unnamed: 3'}\n",
    "\n",
    "update_data_rename = update_data.rename(columns=PIPP_dictionary)"
   ]
  },
  {
   "cell_type": "code",
   "execution_count": 26,
   "metadata": {},
   "outputs": [],
   "source": [
    "PIPP_update = PIPP_sheet2.append(update_data_rename, sort=True)"
   ]
  },
  {
   "cell_type": "code",
   "execution_count": 27,
   "metadata": {
    "scrolled": true
   },
   "outputs": [],
   "source": [
    "PIPP_update.iloc[0,0]=update_name\n",
    "PIPP_update.iloc[1,0]=date_thru"
   ]
  },
  {
   "cell_type": "code",
   "execution_count": 28,
   "metadata": {},
   "outputs": [],
   "source": [
    "#Update PIPP To Post\n",
    "\n",
    "with pd.ExcelWriter(r\"C:\\Users\\matt.pettit\\Desktop\\AEP\\Data\\2020 - 6\\Other\\Other To Post\\AEP Ohio PIPP Hourly Load - May 2020.xlsx\") as bigfile:\n",
    "    PIPP_sheet1.to_excel(bigfile, sheet_name='Prior to Jun 1 2016')\n",
    "    PIPP_update.to_excel(bigfile, sheet_name='Jun 1 2016 Forward')"
   ]
  },
  {
   "cell_type": "code",
   "execution_count": null,
   "metadata": {},
   "outputs": [],
   "source": []
  }
 ],
 "metadata": {
  "kernelspec": {
   "display_name": "Python 3",
   "language": "python",
   "name": "python3"
  },
  "language_info": {
   "codemirror_mode": {
    "name": "ipython",
    "version": 3
   },
   "file_extension": ".py",
   "mimetype": "text/x-python",
   "name": "python",
   "nbconvert_exporter": "python",
   "pygments_lexer": "ipython3",
   "version": "3.7.3"
  }
 },
 "nbformat": 4,
 "nbformat_minor": 2
}
